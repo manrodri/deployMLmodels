{
 "cells": [
  {
   "cell_type": "markdown",
   "source": [
    "Reducing the number of features from 81 to ... reduces the changes of overfitting. Also make the model more interpretable."
   ],
   "metadata": {
    "collapsed": false
   }
  },
  {
   "cell_type": "markdown",
   "source": [
    "# Importing the dataset and libraries"
   ],
   "metadata": {
    "collapsed": false
   }
  },
  {
   "cell_type": "code",
   "execution_count": 1,
   "outputs": [],
   "source": [
    "import pandas as pd\n",
    "import numpy as np\n",
    "import matplotlib.pyplot as plt\n",
    "\n",
    "import seaborn as sns\n",
    "\n",
    "from sklearn.linear_model import LinearRegression, Ridge, Lasso\n",
    "from sklearn.feature_selection import SelectFromModel\n",
    "\n",
    "# to visualise al the columns in the dataframe\n",
    "pd.pandas.set_option('display.max_columns', None)"
   ],
   "metadata": {
    "collapsed": false
   }
  },
  {
   "cell_type": "code",
   "execution_count": 3,
   "outputs": [],
   "source": [
    "X_train = pd.read_csv('X_train.csv')\n",
    "X_test = pd.read_csv('X_test.csv')"
   ],
   "metadata": {
    "collapsed": false
   }
  },
  {
   "cell_type": "code",
   "execution_count": 4,
   "outputs": [
    {
     "data": {
      "text/plain": "   MSSubClass  MSZoning  LotFrontage   LotArea  Street  Alley  LotShape  \\\n0    0.750000      0.75     0.461171  0.366365     1.0    1.0  0.333333   \n1    0.750000      0.75     0.456066  0.388528     1.0    1.0  0.333333   \n2    0.916667      0.75     0.394699  0.336782     1.0    1.0  0.000000   \n3    0.750000      0.75     0.445002  0.482280     1.0    1.0  0.666667   \n4    0.750000      0.75     0.577658  0.391756     1.0    1.0  0.333333   \n\n   LandContour  Utilities  LotConfig  LandSlope  Neighborhood  Condition1  \\\n0     1.000000        1.0        0.0        0.0      0.863636         0.4   \n1     0.333333        1.0        0.0        0.0      0.363636         0.4   \n2     0.333333        1.0        0.0        0.0      0.954545         0.4   \n3     0.666667        1.0        0.0        0.0      0.454545         0.4   \n4     0.333333        1.0        0.0        0.0      0.363636         0.4   \n\n   Condition2  BldgType  HouseStyle  OverallQual  OverallCond  YearBuilt  \\\n0         1.0      0.75         0.6     0.777778         0.50   0.014706   \n1         1.0      0.75         0.6     0.444444         0.75   0.360294   \n2         1.0      1.00         0.6     0.888889         0.50   0.036765   \n3         1.0      0.75         0.6     0.666667         0.50   0.066176   \n4         1.0      0.75         0.6     0.555556         0.50   0.323529   \n\n   YearRemodAdd  RoofStyle  RoofMatl  Exterior1st  Exterior2nd  MasVnrType  \\\n0      0.049180        0.0       0.0          1.0          1.0    0.333333   \n1      0.049180        0.0       0.0          0.6          0.6    0.666667   \n2      0.098361        1.0       0.0          0.3          0.2    0.666667   \n3      0.163934        0.0       0.0          1.0          1.0    0.333333   \n4      0.737705        0.0       0.0          0.6          0.7    0.666667   \n\n   MasVnrArea  ExterQual  ExterCond  Foundation  BsmtQual  BsmtCond  \\\n0     0.00000   0.666667        0.5         1.0  0.666667  0.666667   \n1     0.03375   0.666667        0.5         0.5  0.333333  0.666667   \n2     0.25750   1.000000        0.5         1.0  1.000000  0.666667   \n3     0.00000   0.666667        0.5         1.0  0.666667  0.666667   \n4     0.17000   0.333333        0.5         0.5  0.333333  0.666667   \n\n   BsmtExposure  BsmtFinType1  BsmtFinSF1  BsmtFinType2  BsmtFinSF2  \\\n0      0.666667           1.0    0.002835           0.0         0.0   \n1      0.000000           0.8    0.142807           0.0         0.0   \n2      0.000000           1.0    0.080794           0.0         0.0   \n3      1.000000           1.0    0.255670           0.0         0.0   \n4      0.000000           0.6    0.086818           0.0         0.0   \n\n   BsmtUnfSF  TotalBsmtSF  Heating  HeatingQC  CentralAir  Electrical  \\\n0   0.673479     0.239935      1.0       1.00         1.0         1.0   \n1   0.114724     0.172340      1.0       1.00         1.0         1.0   \n2   0.601951     0.286743      1.0       1.00         1.0         1.0   \n3   0.018114     0.242553      1.0       1.00         1.0         1.0   \n4   0.434278     0.233224      1.0       0.75         1.0         1.0   \n\n   1stFlrSF  2ndFlrSF  LowQualFinSF  GrLivArea  BsmtFullBath  BsmtHalfBath  \\\n0  0.559760       0.0           0.0   0.523250      0.000000           0.0   \n1  0.434539       0.0           0.0   0.406196      0.333333           0.0   \n2  0.627205       0.0           0.0   0.586296      0.333333           0.0   \n3  0.566920       0.0           0.0   0.529943      0.333333           0.0   \n4  0.549026       0.0           0.0   0.513216      0.000000           0.0   \n\n   FullBath  HalfBath  BedroomAbvGr  KitchenAbvGr  KitchenQual  TotRmsAbvGrd  \\\n0  0.666667       0.0         0.375      0.333333     0.666667      0.416667   \n1  0.333333       0.5         0.375      0.333333     0.666667      0.250000   \n2  0.666667       0.0         0.250      0.333333     1.000000      0.333333   \n3  0.666667       0.0         0.375      0.333333     0.666667      0.250000   \n4  0.666667       0.0         0.375      0.333333     0.333333      0.416667   \n\n   Functional  Fireplaces  FireplaceQu  GarageType  GarageYrBlt  GarageFinish  \\\n0         1.0    0.000000          0.0        0.75     0.018692           1.0   \n1         1.0    0.000000          0.0        0.75     0.457944           0.5   \n2         1.0    0.333333          0.8        0.75     0.046729           0.5   \n3         1.0    0.333333          0.4        0.75     0.084112           0.5   \n4         1.0    0.333333          0.8        0.75     0.411215           0.5   \n\n   GarageCars  GarageArea  GarageQual  GarageCond  PavedDrive  WoodDeckSF  \\\n0        0.75    0.430183         0.5         0.5         1.0    0.116686   \n1        0.25    0.220028         0.5         0.5         1.0    0.000000   \n2        0.50    0.406206         0.5         0.5         1.0    0.228705   \n3        0.50    0.362482         0.5         0.5         1.0    0.469078   \n4        0.50    0.406206         0.5         0.5         1.0    0.000000   \n\n   OpenPorchSF  EnclosedPorch  3SsnPorch  ScreenPorch  PoolArea  PoolQC  \\\n0     0.032907            0.0        0.0          0.0       0.0     0.0   \n1     0.000000            0.0        0.0          0.0       0.0     0.0   \n2     0.149909            0.0        0.0          0.0       0.0     0.0   \n3     0.045704            0.0        0.0          0.0       0.0     0.0   \n4     0.000000            0.0        1.0          0.0       0.0     0.0   \n\n   Fence  MiscFeature  MiscVal    MoSold  SaleType  SaleCondition  \\\n0   0.00          1.0      0.0  0.545455  0.666667           0.75   \n1   0.75          1.0      0.0  0.636364  0.666667           0.75   \n2   0.00          1.0      0.0  0.090909  0.666667           0.75   \n3   0.00          1.0      0.0  0.636364  0.666667           0.75   \n4   0.00          1.0      0.0  0.545455  0.666667           0.75   \n\n   LotFrontage_na  MasVnrArea_na  GarageYrBlt_na  \n0             0.0            0.0             0.0  \n1             0.0            0.0             0.0  \n2             0.0            0.0             0.0  \n3             1.0            0.0             0.0  \n4             0.0            0.0             0.0  ",
      "text/html": "<div>\n<style scoped>\n    .dataframe tbody tr th:only-of-type {\n        vertical-align: middle;\n    }\n\n    .dataframe tbody tr th {\n        vertical-align: top;\n    }\n\n    .dataframe thead th {\n        text-align: right;\n    }\n</style>\n<table border=\"1\" class=\"dataframe\">\n  <thead>\n    <tr style=\"text-align: right;\">\n      <th></th>\n      <th>MSSubClass</th>\n      <th>MSZoning</th>\n      <th>LotFrontage</th>\n      <th>LotArea</th>\n      <th>Street</th>\n      <th>Alley</th>\n      <th>LotShape</th>\n      <th>LandContour</th>\n      <th>Utilities</th>\n      <th>LotConfig</th>\n      <th>LandSlope</th>\n      <th>Neighborhood</th>\n      <th>Condition1</th>\n      <th>Condition2</th>\n      <th>BldgType</th>\n      <th>HouseStyle</th>\n      <th>OverallQual</th>\n      <th>OverallCond</th>\n      <th>YearBuilt</th>\n      <th>YearRemodAdd</th>\n      <th>RoofStyle</th>\n      <th>RoofMatl</th>\n      <th>Exterior1st</th>\n      <th>Exterior2nd</th>\n      <th>MasVnrType</th>\n      <th>MasVnrArea</th>\n      <th>ExterQual</th>\n      <th>ExterCond</th>\n      <th>Foundation</th>\n      <th>BsmtQual</th>\n      <th>BsmtCond</th>\n      <th>BsmtExposure</th>\n      <th>BsmtFinType1</th>\n      <th>BsmtFinSF1</th>\n      <th>BsmtFinType2</th>\n      <th>BsmtFinSF2</th>\n      <th>BsmtUnfSF</th>\n      <th>TotalBsmtSF</th>\n      <th>Heating</th>\n      <th>HeatingQC</th>\n      <th>CentralAir</th>\n      <th>Electrical</th>\n      <th>1stFlrSF</th>\n      <th>2ndFlrSF</th>\n      <th>LowQualFinSF</th>\n      <th>GrLivArea</th>\n      <th>BsmtFullBath</th>\n      <th>BsmtHalfBath</th>\n      <th>FullBath</th>\n      <th>HalfBath</th>\n      <th>BedroomAbvGr</th>\n      <th>KitchenAbvGr</th>\n      <th>KitchenQual</th>\n      <th>TotRmsAbvGrd</th>\n      <th>Functional</th>\n      <th>Fireplaces</th>\n      <th>FireplaceQu</th>\n      <th>GarageType</th>\n      <th>GarageYrBlt</th>\n      <th>GarageFinish</th>\n      <th>GarageCars</th>\n      <th>GarageArea</th>\n      <th>GarageQual</th>\n      <th>GarageCond</th>\n      <th>PavedDrive</th>\n      <th>WoodDeckSF</th>\n      <th>OpenPorchSF</th>\n      <th>EnclosedPorch</th>\n      <th>3SsnPorch</th>\n      <th>ScreenPorch</th>\n      <th>PoolArea</th>\n      <th>PoolQC</th>\n      <th>Fence</th>\n      <th>MiscFeature</th>\n      <th>MiscVal</th>\n      <th>MoSold</th>\n      <th>SaleType</th>\n      <th>SaleCondition</th>\n      <th>LotFrontage_na</th>\n      <th>MasVnrArea_na</th>\n      <th>GarageYrBlt_na</th>\n    </tr>\n  </thead>\n  <tbody>\n    <tr>\n      <th>0</th>\n      <td>0.750000</td>\n      <td>0.75</td>\n      <td>0.461171</td>\n      <td>0.366365</td>\n      <td>1.0</td>\n      <td>1.0</td>\n      <td>0.333333</td>\n      <td>1.000000</td>\n      <td>1.0</td>\n      <td>0.0</td>\n      <td>0.0</td>\n      <td>0.863636</td>\n      <td>0.4</td>\n      <td>1.0</td>\n      <td>0.75</td>\n      <td>0.6</td>\n      <td>0.777778</td>\n      <td>0.50</td>\n      <td>0.014706</td>\n      <td>0.049180</td>\n      <td>0.0</td>\n      <td>0.0</td>\n      <td>1.0</td>\n      <td>1.0</td>\n      <td>0.333333</td>\n      <td>0.00000</td>\n      <td>0.666667</td>\n      <td>0.5</td>\n      <td>1.0</td>\n      <td>0.666667</td>\n      <td>0.666667</td>\n      <td>0.666667</td>\n      <td>1.0</td>\n      <td>0.002835</td>\n      <td>0.0</td>\n      <td>0.0</td>\n      <td>0.673479</td>\n      <td>0.239935</td>\n      <td>1.0</td>\n      <td>1.00</td>\n      <td>1.0</td>\n      <td>1.0</td>\n      <td>0.559760</td>\n      <td>0.0</td>\n      <td>0.0</td>\n      <td>0.523250</td>\n      <td>0.000000</td>\n      <td>0.0</td>\n      <td>0.666667</td>\n      <td>0.0</td>\n      <td>0.375</td>\n      <td>0.333333</td>\n      <td>0.666667</td>\n      <td>0.416667</td>\n      <td>1.0</td>\n      <td>0.000000</td>\n      <td>0.0</td>\n      <td>0.75</td>\n      <td>0.018692</td>\n      <td>1.0</td>\n      <td>0.75</td>\n      <td>0.430183</td>\n      <td>0.5</td>\n      <td>0.5</td>\n      <td>1.0</td>\n      <td>0.116686</td>\n      <td>0.032907</td>\n      <td>0.0</td>\n      <td>0.0</td>\n      <td>0.0</td>\n      <td>0.0</td>\n      <td>0.0</td>\n      <td>0.00</td>\n      <td>1.0</td>\n      <td>0.0</td>\n      <td>0.545455</td>\n      <td>0.666667</td>\n      <td>0.75</td>\n      <td>0.0</td>\n      <td>0.0</td>\n      <td>0.0</td>\n    </tr>\n    <tr>\n      <th>1</th>\n      <td>0.750000</td>\n      <td>0.75</td>\n      <td>0.456066</td>\n      <td>0.388528</td>\n      <td>1.0</td>\n      <td>1.0</td>\n      <td>0.333333</td>\n      <td>0.333333</td>\n      <td>1.0</td>\n      <td>0.0</td>\n      <td>0.0</td>\n      <td>0.363636</td>\n      <td>0.4</td>\n      <td>1.0</td>\n      <td>0.75</td>\n      <td>0.6</td>\n      <td>0.444444</td>\n      <td>0.75</td>\n      <td>0.360294</td>\n      <td>0.049180</td>\n      <td>0.0</td>\n      <td>0.0</td>\n      <td>0.6</td>\n      <td>0.6</td>\n      <td>0.666667</td>\n      <td>0.03375</td>\n      <td>0.666667</td>\n      <td>0.5</td>\n      <td>0.5</td>\n      <td>0.333333</td>\n      <td>0.666667</td>\n      <td>0.000000</td>\n      <td>0.8</td>\n      <td>0.142807</td>\n      <td>0.0</td>\n      <td>0.0</td>\n      <td>0.114724</td>\n      <td>0.172340</td>\n      <td>1.0</td>\n      <td>1.00</td>\n      <td>1.0</td>\n      <td>1.0</td>\n      <td>0.434539</td>\n      <td>0.0</td>\n      <td>0.0</td>\n      <td>0.406196</td>\n      <td>0.333333</td>\n      <td>0.0</td>\n      <td>0.333333</td>\n      <td>0.5</td>\n      <td>0.375</td>\n      <td>0.333333</td>\n      <td>0.666667</td>\n      <td>0.250000</td>\n      <td>1.0</td>\n      <td>0.000000</td>\n      <td>0.0</td>\n      <td>0.75</td>\n      <td>0.457944</td>\n      <td>0.5</td>\n      <td>0.25</td>\n      <td>0.220028</td>\n      <td>0.5</td>\n      <td>0.5</td>\n      <td>1.0</td>\n      <td>0.000000</td>\n      <td>0.000000</td>\n      <td>0.0</td>\n      <td>0.0</td>\n      <td>0.0</td>\n      <td>0.0</td>\n      <td>0.0</td>\n      <td>0.75</td>\n      <td>1.0</td>\n      <td>0.0</td>\n      <td>0.636364</td>\n      <td>0.666667</td>\n      <td>0.75</td>\n      <td>0.0</td>\n      <td>0.0</td>\n      <td>0.0</td>\n    </tr>\n    <tr>\n      <th>2</th>\n      <td>0.916667</td>\n      <td>0.75</td>\n      <td>0.394699</td>\n      <td>0.336782</td>\n      <td>1.0</td>\n      <td>1.0</td>\n      <td>0.000000</td>\n      <td>0.333333</td>\n      <td>1.0</td>\n      <td>0.0</td>\n      <td>0.0</td>\n      <td>0.954545</td>\n      <td>0.4</td>\n      <td>1.0</td>\n      <td>1.00</td>\n      <td>0.6</td>\n      <td>0.888889</td>\n      <td>0.50</td>\n      <td>0.036765</td>\n      <td>0.098361</td>\n      <td>1.0</td>\n      <td>0.0</td>\n      <td>0.3</td>\n      <td>0.2</td>\n      <td>0.666667</td>\n      <td>0.25750</td>\n      <td>1.000000</td>\n      <td>0.5</td>\n      <td>1.0</td>\n      <td>1.000000</td>\n      <td>0.666667</td>\n      <td>0.000000</td>\n      <td>1.0</td>\n      <td>0.080794</td>\n      <td>0.0</td>\n      <td>0.0</td>\n      <td>0.601951</td>\n      <td>0.286743</td>\n      <td>1.0</td>\n      <td>1.00</td>\n      <td>1.0</td>\n      <td>1.0</td>\n      <td>0.627205</td>\n      <td>0.0</td>\n      <td>0.0</td>\n      <td>0.586296</td>\n      <td>0.333333</td>\n      <td>0.0</td>\n      <td>0.666667</td>\n      <td>0.0</td>\n      <td>0.250</td>\n      <td>0.333333</td>\n      <td>1.000000</td>\n      <td>0.333333</td>\n      <td>1.0</td>\n      <td>0.333333</td>\n      <td>0.8</td>\n      <td>0.75</td>\n      <td>0.046729</td>\n      <td>0.5</td>\n      <td>0.50</td>\n      <td>0.406206</td>\n      <td>0.5</td>\n      <td>0.5</td>\n      <td>1.0</td>\n      <td>0.228705</td>\n      <td>0.149909</td>\n      <td>0.0</td>\n      <td>0.0</td>\n      <td>0.0</td>\n      <td>0.0</td>\n      <td>0.0</td>\n      <td>0.00</td>\n      <td>1.0</td>\n      <td>0.0</td>\n      <td>0.090909</td>\n      <td>0.666667</td>\n      <td>0.75</td>\n      <td>0.0</td>\n      <td>0.0</td>\n      <td>0.0</td>\n    </tr>\n    <tr>\n      <th>3</th>\n      <td>0.750000</td>\n      <td>0.75</td>\n      <td>0.445002</td>\n      <td>0.482280</td>\n      <td>1.0</td>\n      <td>1.0</td>\n      <td>0.666667</td>\n      <td>0.666667</td>\n      <td>1.0</td>\n      <td>0.0</td>\n      <td>0.0</td>\n      <td>0.454545</td>\n      <td>0.4</td>\n      <td>1.0</td>\n      <td>0.75</td>\n      <td>0.6</td>\n      <td>0.666667</td>\n      <td>0.50</td>\n      <td>0.066176</td>\n      <td>0.163934</td>\n      <td>0.0</td>\n      <td>0.0</td>\n      <td>1.0</td>\n      <td>1.0</td>\n      <td>0.333333</td>\n      <td>0.00000</td>\n      <td>0.666667</td>\n      <td>0.5</td>\n      <td>1.0</td>\n      <td>0.666667</td>\n      <td>0.666667</td>\n      <td>1.000000</td>\n      <td>1.0</td>\n      <td>0.255670</td>\n      <td>0.0</td>\n      <td>0.0</td>\n      <td>0.018114</td>\n      <td>0.242553</td>\n      <td>1.0</td>\n      <td>1.00</td>\n      <td>1.0</td>\n      <td>1.0</td>\n      <td>0.566920</td>\n      <td>0.0</td>\n      <td>0.0</td>\n      <td>0.529943</td>\n      <td>0.333333</td>\n      <td>0.0</td>\n      <td>0.666667</td>\n      <td>0.0</td>\n      <td>0.375</td>\n      <td>0.333333</td>\n      <td>0.666667</td>\n      <td>0.250000</td>\n      <td>1.0</td>\n      <td>0.333333</td>\n      <td>0.4</td>\n      <td>0.75</td>\n      <td>0.084112</td>\n      <td>0.5</td>\n      <td>0.50</td>\n      <td>0.362482</td>\n      <td>0.5</td>\n      <td>0.5</td>\n      <td>1.0</td>\n      <td>0.469078</td>\n      <td>0.045704</td>\n      <td>0.0</td>\n      <td>0.0</td>\n      <td>0.0</td>\n      <td>0.0</td>\n      <td>0.0</td>\n      <td>0.00</td>\n      <td>1.0</td>\n      <td>0.0</td>\n      <td>0.636364</td>\n      <td>0.666667</td>\n      <td>0.75</td>\n      <td>1.0</td>\n      <td>0.0</td>\n      <td>0.0</td>\n    </tr>\n    <tr>\n      <th>4</th>\n      <td>0.750000</td>\n      <td>0.75</td>\n      <td>0.577658</td>\n      <td>0.391756</td>\n      <td>1.0</td>\n      <td>1.0</td>\n      <td>0.333333</td>\n      <td>0.333333</td>\n      <td>1.0</td>\n      <td>0.0</td>\n      <td>0.0</td>\n      <td>0.363636</td>\n      <td>0.4</td>\n      <td>1.0</td>\n      <td>0.75</td>\n      <td>0.6</td>\n      <td>0.555556</td>\n      <td>0.50</td>\n      <td>0.323529</td>\n      <td>0.737705</td>\n      <td>0.0</td>\n      <td>0.0</td>\n      <td>0.6</td>\n      <td>0.7</td>\n      <td>0.666667</td>\n      <td>0.17000</td>\n      <td>0.333333</td>\n      <td>0.5</td>\n      <td>0.5</td>\n      <td>0.333333</td>\n      <td>0.666667</td>\n      <td>0.000000</td>\n      <td>0.6</td>\n      <td>0.086818</td>\n      <td>0.0</td>\n      <td>0.0</td>\n      <td>0.434278</td>\n      <td>0.233224</td>\n      <td>1.0</td>\n      <td>0.75</td>\n      <td>1.0</td>\n      <td>1.0</td>\n      <td>0.549026</td>\n      <td>0.0</td>\n      <td>0.0</td>\n      <td>0.513216</td>\n      <td>0.000000</td>\n      <td>0.0</td>\n      <td>0.666667</td>\n      <td>0.0</td>\n      <td>0.375</td>\n      <td>0.333333</td>\n      <td>0.333333</td>\n      <td>0.416667</td>\n      <td>1.0</td>\n      <td>0.333333</td>\n      <td>0.8</td>\n      <td>0.75</td>\n      <td>0.411215</td>\n      <td>0.5</td>\n      <td>0.50</td>\n      <td>0.406206</td>\n      <td>0.5</td>\n      <td>0.5</td>\n      <td>1.0</td>\n      <td>0.000000</td>\n      <td>0.000000</td>\n      <td>0.0</td>\n      <td>1.0</td>\n      <td>0.0</td>\n      <td>0.0</td>\n      <td>0.0</td>\n      <td>0.00</td>\n      <td>1.0</td>\n      <td>0.0</td>\n      <td>0.545455</td>\n      <td>0.666667</td>\n      <td>0.75</td>\n      <td>0.0</td>\n      <td>0.0</td>\n      <td>0.0</td>\n    </tr>\n  </tbody>\n</table>\n</div>"
     },
     "execution_count": 4,
     "metadata": {},
     "output_type": "execute_result"
    }
   ],
   "source": [
    "X_train.head()"
   ],
   "metadata": {
    "collapsed": false
   }
  },
  {
   "cell_type": "code",
   "execution_count": 5,
   "outputs": [],
   "source": [
    "y_train = pd.read_csv('y_train.csv')\n",
    "y_test = pd.read_csv('y_test.csv')"
   ],
   "metadata": {
    "collapsed": false
   }
  },
  {
   "cell_type": "code",
   "execution_count": 6,
   "outputs": [
    {
     "data": {
      "text/plain": "   SalePrice\n0  12.211060\n1  11.887931\n2  12.675764\n3  12.278393\n4  12.103486",
      "text/html": "<div>\n<style scoped>\n    .dataframe tbody tr th:only-of-type {\n        vertical-align: middle;\n    }\n\n    .dataframe tbody tr th {\n        vertical-align: top;\n    }\n\n    .dataframe thead th {\n        text-align: right;\n    }\n</style>\n<table border=\"1\" class=\"dataframe\">\n  <thead>\n    <tr style=\"text-align: right;\">\n      <th></th>\n      <th>SalePrice</th>\n    </tr>\n  </thead>\n  <tbody>\n    <tr>\n      <th>0</th>\n      <td>12.211060</td>\n    </tr>\n    <tr>\n      <th>1</th>\n      <td>11.887931</td>\n    </tr>\n    <tr>\n      <th>2</th>\n      <td>12.675764</td>\n    </tr>\n    <tr>\n      <th>3</th>\n      <td>12.278393</td>\n    </tr>\n    <tr>\n      <th>4</th>\n      <td>12.103486</td>\n    </tr>\n  </tbody>\n</table>\n</div>"
     },
     "execution_count": 6,
     "metadata": {},
     "output_type": "execute_result"
    }
   ],
   "source": [
    "y_train.head()"
   ],
   "metadata": {
    "collapsed": false
   }
  },
  {
   "cell_type": "markdown",
   "source": [],
   "metadata": {
    "collapsed": false
   }
  },
  {
   "cell_type": "markdown",
   "source": [
    "### Feature Selection\n",
    "\n",
    "Let's go ahead and select a subset of the most predictive features. There is an element of randomness in the Lasso regression, so remember to set the seed."
   ],
   "metadata": {
    "collapsed": false
   }
  },
  {
   "cell_type": "code",
   "execution_count": 7,
   "outputs": [
    {
     "data": {
      "text/plain": "SelectFromModel(estimator=Lasso(alpha=0.001, random_state=0))",
      "text/html": "<style>#sk-container-id-1 {color: black;background-color: white;}#sk-container-id-1 pre{padding: 0;}#sk-container-id-1 div.sk-toggleable {background-color: white;}#sk-container-id-1 label.sk-toggleable__label {cursor: pointer;display: block;width: 100%;margin-bottom: 0;padding: 0.3em;box-sizing: border-box;text-align: center;}#sk-container-id-1 label.sk-toggleable__label-arrow:before {content: \"▸\";float: left;margin-right: 0.25em;color: #696969;}#sk-container-id-1 label.sk-toggleable__label-arrow:hover:before {color: black;}#sk-container-id-1 div.sk-estimator:hover label.sk-toggleable__label-arrow:before {color: black;}#sk-container-id-1 div.sk-toggleable__content {max-height: 0;max-width: 0;overflow: hidden;text-align: left;background-color: #f0f8ff;}#sk-container-id-1 div.sk-toggleable__content pre {margin: 0.2em;color: black;border-radius: 0.25em;background-color: #f0f8ff;}#sk-container-id-1 input.sk-toggleable__control:checked~div.sk-toggleable__content {max-height: 200px;max-width: 100%;overflow: auto;}#sk-container-id-1 input.sk-toggleable__control:checked~label.sk-toggleable__label-arrow:before {content: \"▾\";}#sk-container-id-1 div.sk-estimator input.sk-toggleable__control:checked~label.sk-toggleable__label {background-color: #d4ebff;}#sk-container-id-1 div.sk-label input.sk-toggleable__control:checked~label.sk-toggleable__label {background-color: #d4ebff;}#sk-container-id-1 input.sk-hidden--visually {border: 0;clip: rect(1px 1px 1px 1px);clip: rect(1px, 1px, 1px, 1px);height: 1px;margin: -1px;overflow: hidden;padding: 0;position: absolute;width: 1px;}#sk-container-id-1 div.sk-estimator {font-family: monospace;background-color: #f0f8ff;border: 1px dotted black;border-radius: 0.25em;box-sizing: border-box;margin-bottom: 0.5em;}#sk-container-id-1 div.sk-estimator:hover {background-color: #d4ebff;}#sk-container-id-1 div.sk-parallel-item::after {content: \"\";width: 100%;border-bottom: 1px solid gray;flex-grow: 1;}#sk-container-id-1 div.sk-label:hover label.sk-toggleable__label {background-color: #d4ebff;}#sk-container-id-1 div.sk-serial::before {content: \"\";position: absolute;border-left: 1px solid gray;box-sizing: border-box;top: 0;bottom: 0;left: 50%;z-index: 0;}#sk-container-id-1 div.sk-serial {display: flex;flex-direction: column;align-items: center;background-color: white;padding-right: 0.2em;padding-left: 0.2em;position: relative;}#sk-container-id-1 div.sk-item {position: relative;z-index: 1;}#sk-container-id-1 div.sk-parallel {display: flex;align-items: stretch;justify-content: center;background-color: white;position: relative;}#sk-container-id-1 div.sk-item::before, #sk-container-id-1 div.sk-parallel-item::before {content: \"\";position: absolute;border-left: 1px solid gray;box-sizing: border-box;top: 0;bottom: 0;left: 50%;z-index: -1;}#sk-container-id-1 div.sk-parallel-item {display: flex;flex-direction: column;z-index: 1;position: relative;background-color: white;}#sk-container-id-1 div.sk-parallel-item:first-child::after {align-self: flex-end;width: 50%;}#sk-container-id-1 div.sk-parallel-item:last-child::after {align-self: flex-start;width: 50%;}#sk-container-id-1 div.sk-parallel-item:only-child::after {width: 0;}#sk-container-id-1 div.sk-dashed-wrapped {border: 1px dashed gray;margin: 0 0.4em 0.5em 0.4em;box-sizing: border-box;padding-bottom: 0.4em;background-color: white;}#sk-container-id-1 div.sk-label label {font-family: monospace;font-weight: bold;display: inline-block;line-height: 1.2em;}#sk-container-id-1 div.sk-label-container {text-align: center;}#sk-container-id-1 div.sk-container {/* jupyter's `normalize.less` sets `[hidden] { display: none; }` but bootstrap.min.css set `[hidden] { display: none !important; }` so we also need the `!important` here to be able to override the default hidden behavior on the sphinx rendered scikit-learn.org. See: https://github.com/scikit-learn/scikit-learn/issues/21755 */display: inline-block !important;position: relative;}#sk-container-id-1 div.sk-text-repr-fallback {display: none;}</style><div id=\"sk-container-id-1\" class=\"sk-top-container\"><div class=\"sk-text-repr-fallback\"><pre>SelectFromModel(estimator=Lasso(alpha=0.001, random_state=0))</pre><b>In a Jupyter environment, please rerun this cell to show the HTML representation or trust the notebook. <br />On GitHub, the HTML representation is unable to render, please try loading this page with nbviewer.org.</b></div><div class=\"sk-container\" hidden><div class=\"sk-item sk-dashed-wrapped\"><div class=\"sk-label-container\"><div class=\"sk-label sk-toggleable\"><input class=\"sk-toggleable__control sk-hidden--visually\" id=\"sk-estimator-id-1\" type=\"checkbox\" ><label for=\"sk-estimator-id-1\" class=\"sk-toggleable__label sk-toggleable__label-arrow\">SelectFromModel</label><div class=\"sk-toggleable__content\"><pre>SelectFromModel(estimator=Lasso(alpha=0.001, random_state=0))</pre></div></div></div><div class=\"sk-parallel\"><div class=\"sk-parallel-item\"><div class=\"sk-item\"><div class=\"sk-label-container\"><div class=\"sk-label sk-toggleable\"><input class=\"sk-toggleable__control sk-hidden--visually\" id=\"sk-estimator-id-2\" type=\"checkbox\" ><label for=\"sk-estimator-id-2\" class=\"sk-toggleable__label sk-toggleable__label-arrow\">estimator: Lasso</label><div class=\"sk-toggleable__content\"><pre>Lasso(alpha=0.001, random_state=0)</pre></div></div></div><div class=\"sk-serial\"><div class=\"sk-item\"><div class=\"sk-estimator sk-toggleable\"><input class=\"sk-toggleable__control sk-hidden--visually\" id=\"sk-estimator-id-3\" type=\"checkbox\" ><label for=\"sk-estimator-id-3\" class=\"sk-toggleable__label sk-toggleable__label-arrow\">Lasso</label><div class=\"sk-toggleable__content\"><pre>Lasso(alpha=0.001, random_state=0)</pre></div></div></div></div></div></div></div></div></div></div>"
     },
     "execution_count": 7,
     "metadata": {},
     "output_type": "execute_result"
    }
   ],
   "source": [
    "# We will do the model fitting and feature selection\n",
    "# altogether in a few lines of code\n",
    "\n",
    "# first, we specify the Lasso Regression model, and we\n",
    "# select a suitable alpha (equivalent of penalty).\n",
    "# The bigger the alpha the less features that will be selected.\n",
    "\n",
    "# Then we use the selectFromModel object from sklearn, which\n",
    "# will select automatically the features which coefficients are non-zero\n",
    "\n",
    "# remember to set the seed, the random state in this function\n",
    "sel_ = SelectFromModel(Lasso(alpha=0.001, random_state=0))\n",
    "\n",
    "# train Lasso model and select features\n",
    "sel_.fit(X_train, y_train)"
   ],
   "metadata": {
    "collapsed": false
   }
  },
  {
   "cell_type": "code",
   "execution_count": 8,
   "outputs": [],
   "source": [
    "# let's print the number of total and selected features"
   ],
   "metadata": {
    "collapsed": false
   }
  },
  {
   "cell_type": "code",
   "execution_count": 9,
   "outputs": [
    {
     "data": {
      "text/plain": "array([ True,  True, False,  True, False, False,  True,  True, False,\n        True, False,  True, False, False, False, False,  True,  True,\n       False,  True,  True, False,  True, False, False, False,  True,\n       False,  True,  True, False,  True,  True, False, False, False,\n       False, False, False,  True,  True, False,  True,  True, False,\n        True,  True, False,  True,  True, False, False,  True,  True,\n        True,  True,  True, False, False,  True,  True, False, False,\n       False,  True,  True, False, False, False,  True, False, False,\n       False, False, False, False, False,  True, False, False, False])"
     },
     "execution_count": 9,
     "metadata": {},
     "output_type": "execute_result"
    }
   ],
   "source": [
    "sel_.get_support()"
   ],
   "metadata": {
    "collapsed": false
   }
  },
  {
   "cell_type": "code",
   "execution_count": 10,
   "outputs": [
    {
     "data": {
      "text/plain": "36"
     },
     "execution_count": 10,
     "metadata": {},
     "output_type": "execute_result"
    }
   ],
   "source": [
    "sel_.get_support().sum()"
   ],
   "metadata": {
    "collapsed": false
   }
  },
  {
   "cell_type": "code",
   "execution_count": 11,
   "outputs": [
    {
     "name": "stdout",
     "output_type": "stream",
     "text": [
      "total features: 81\n",
      "selected features: 36\n",
      "features with coefficients shrank to zero: 45\n"
     ]
    }
   ],
   "source": [
    "# We captured 36 features, let's visualise them\n",
    "selected_feat = X_train.columns[(sel_.get_support())]\n",
    "\n",
    "print('total features: {}'.format((X_train.shape[1])))\n",
    "print('selected features: {}'.format(len(selected_feat)))\n",
    "print('features with coefficients shrank to zero: {}'.format(\n",
    "    np.sum(sel_.estimator_.coef_ == 0)))"
   ],
   "metadata": {
    "collapsed": false
   }
  },
  {
   "cell_type": "code",
   "execution_count": 12,
   "outputs": [],
   "source": [
    "pd.Series(selected_feat).to_csv('selected_features.csv', index=False)"
   ],
   "metadata": {
    "collapsed": false
   }
  },
  {
   "cell_type": "markdown",
   "source": [
    "# Additional Resources\n",
    "\n",
    "- [Feature Selection for Machine Learning](https://www.trainindata.com/p/feature-selection-for-machine-learning) - Online Course\n",
    "- [Feature Selection in Machine Learning with Python](https://leanpub.com/feature-selection-in-machine-learning/) - Book\n",
    "- [Feature Selection for Machine Learning: A comprehensive Overview](https://www.blog.trainindata.com/feature-selection-for-machine-learning/) - Article"
   ],
   "metadata": {
    "collapsed": false
   }
  },
  {
   "cell_type": "code",
   "execution_count": null,
   "outputs": [],
   "source": [],
   "metadata": {
    "collapsed": false
   }
  }
 ],
 "metadata": {
  "kernelspec": {
   "display_name": "Python 3",
   "language": "python",
   "name": "python3"
  },
  "language_info": {
   "codemirror_mode": {
    "name": "ipython",
    "version": 2
   },
   "file_extension": ".py",
   "mimetype": "text/x-python",
   "name": "python",
   "nbconvert_exporter": "python",
   "pygments_lexer": "ipython2",
   "version": "2.7.6"
  }
 },
 "nbformat": 4,
 "nbformat_minor": 0
}
