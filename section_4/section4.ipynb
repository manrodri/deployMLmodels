{
 "cells": [
  {
   "cell_type": "code",
   "execution_count": 1,
   "metadata": {
    "collapsed": true
   },
   "outputs": [
    {
     "name": "stdout",
     "output_type": "stream",
     "text": [
      "Collecting kaggle\r\n",
      "  Using cached kaggle-1.5.13.tar.gz (63 kB)\r\n",
      "  Preparing metadata (setup.py) ... \u001B[?25ldone\r\n",
      "\u001B[?25hRequirement already satisfied: six>=1.10 in /Users/manuel/.virtualenvs/deployMLprojects/lib/python3.9/site-packages (from kaggle) (1.16.0)\r\n",
      "Collecting certifi\r\n",
      "  Using cached certifi-2022.12.7-py3-none-any.whl (155 kB)\r\n",
      "Requirement already satisfied: python-dateutil in /Users/manuel/.virtualenvs/deployMLprojects/lib/python3.9/site-packages (from kaggle) (2.8.2)\r\n",
      "Collecting requests\r\n",
      "  Using cached requests-2.28.2-py3-none-any.whl (62 kB)\r\n",
      "Collecting tqdm\r\n",
      "  Downloading tqdm-4.65.0-py3-none-any.whl (77 kB)\r\n",
      "\u001B[2K     \u001B[90m━━━━━━━━━━━━━━━━━━━━━━━━━━━━━━━━━━━━━━━━\u001B[0m \u001B[32m77.1/77.1 kB\u001B[0m \u001B[31m2.6 MB/s\u001B[0m eta \u001B[36m0:00:00\u001B[0m\r\n",
      "\u001B[?25hCollecting python-slugify\r\n",
      "  Using cached python_slugify-8.0.1-py2.py3-none-any.whl (9.7 kB)\r\n",
      "Collecting urllib3\r\n",
      "  Downloading urllib3-1.26.15-py2.py3-none-any.whl (140 kB)\r\n",
      "\u001B[2K     \u001B[90m━━━━━━━━━━━━━━━━━━━━━━━━━━━━━━━━━━━━━━━\u001B[0m \u001B[32m140.9/140.9 kB\u001B[0m \u001B[31m4.8 MB/s\u001B[0m eta \u001B[36m0:00:00\u001B[0m\r\n",
      "\u001B[?25hCollecting text-unidecode>=1.3\r\n",
      "  Using cached text_unidecode-1.3-py2.py3-none-any.whl (78 kB)\r\n",
      "Requirement already satisfied: idna<4,>=2.5 in /Users/manuel/.virtualenvs/deployMLprojects/lib/python3.9/site-packages (from requests->kaggle) (3.4)\r\n",
      "Collecting charset-normalizer<4,>=2\r\n",
      "  Downloading charset_normalizer-3.1.0-cp39-cp39-macosx_10_9_x86_64.whl (124 kB)\r\n",
      "\u001B[2K     \u001B[90m━━━━━━━━━━━━━━━━━━━━━━━━━━━━━━━━━━━━━━━\u001B[0m \u001B[32m124.7/124.7 kB\u001B[0m \u001B[31m2.9 MB/s\u001B[0m eta \u001B[36m0:00:00\u001B[0m00:01\u001B[0m\r\n",
      "\u001B[?25hBuilding wheels for collected packages: kaggle\r\n",
      "  Building wheel for kaggle (setup.py) ... \u001B[?25ldone\r\n",
      "\u001B[?25h  Created wheel for kaggle: filename=kaggle-1.5.13-py3-none-any.whl size=77716 sha256=2ca5f55f2f185bb297a7d357cff2706b378d342062636c02c9668b3fe2dae0b3\r\n",
      "  Stored in directory: /Users/manuel/Library/Caches/pip/wheels/92/8c/37/96a1971bedc1e74057af1e4852f18de7e8286dea4f12928e6c\r\n",
      "Successfully built kaggle\r\n",
      "Installing collected packages: text-unidecode, urllib3, tqdm, python-slugify, charset-normalizer, certifi, requests, kaggle\r\n",
      "Successfully installed certifi-2022.12.7 charset-normalizer-3.1.0 kaggle-1.5.13 python-slugify-8.0.1 requests-2.28.2 text-unidecode-1.3 tqdm-4.65.0 urllib3-1.26.15\r\n",
      "\r\n",
      "\u001B[1m[\u001B[0m\u001B[34;49mnotice\u001B[0m\u001B[1;39;49m]\u001B[0m\u001B[39;49m A new release of pip available: \u001B[0m\u001B[31;49m22.3.1\u001B[0m\u001B[39;49m -> \u001B[0m\u001B[32;49m23.0.1\u001B[0m\r\n",
      "\u001B[1m[\u001B[0m\u001B[34;49mnotice\u001B[0m\u001B[1;39;49m]\u001B[0m\u001B[39;49m To update, run: \u001B[0m\u001B[32;49mpip install --upgrade pip\u001B[0m\r\n"
     ]
    }
   ],
   "source": [
    "!pip install kaggle"
   ]
  },
  {
   "cell_type": "code",
   "execution_count": 2,
   "outputs": [],
   "source": [
    "!cp ~/Desktop/kaggle.json ~/.kaggle/kaggle.json"
   ],
   "metadata": {
    "collapsed": false
   }
  },
  {
   "cell_type": "code",
   "execution_count": 3,
   "outputs": [
    {
     "name": "stdout",
     "output_type": "stream",
     "text": [
      "Downloading iris.zip to /Users/manuel/PycharmProjects/deployMLprojects\r\n",
      "  0%|                                               | 0.00/3.60k [00:00<?, ?B/s]\r\n",
      "100%|██████████████████████████████████████| 3.60k/3.60k [00:00<00:00, 2.75MB/s]\r\n"
     ]
    }
   ],
   "source": [
    "!kaggle datasets download -d uciml/iris"
   ],
   "metadata": {
    "collapsed": false
   }
  },
  {
   "cell_type": "code",
   "execution_count": 5,
   "outputs": [
    {
     "name": "stdout",
     "output_type": "stream",
     "text": [
      "403 - Forbidden\r\n"
     ]
    }
   ],
   "source": [
    "!kaggle datasets download -d house-prices-advanced-regression-techniques"
   ],
   "metadata": {
    "collapsed": false
   }
  },
  {
   "cell_type": "code",
   "execution_count": 7,
   "outputs": [
    {
     "name": "stdout",
     "output_type": "stream",
     "text": [
      "ref                                                                                deadline             category             reward  teamCount  userHasEntered  \r\n",
      "---------------------------------------------------------------------------------  -------------------  ---------------  ----------  ---------  --------------  \r\n",
      "https://www.kaggle.com/competitions/vesuvius-challenge-ink-detection               2023-06-14 23:59:00  Featured         $1,000,000        237           False  \r\n",
      "https://www.kaggle.com/competitions/asl-signs                                      2023-05-01 23:59:00  Research           $100,000        787           False  \r\n",
      "https://www.kaggle.com/competitions/tlvmc-parkinsons-freezing-gait-prediction      2023-06-08 23:59:00  Research           $100,000        294           False  \r\n",
      "https://www.kaggle.com/competitions/amp-parkinsons-disease-progression-prediction  2023-05-18 23:59:00  Featured            $60,000        892           False  \r\n",
      "https://www.kaggle.com/competitions/lux-ai-season-2                                2023-04-24 23:59:00  Featured            $55,000        529           False  \r\n",
      "https://www.kaggle.com/competitions/predict-student-performance-from-game-play     2023-06-07 23:59:00  Featured            $55,000       1151           False  \r\n",
      "https://www.kaggle.com/competitions/icecube-neutrinos-in-deep-ice                  2023-04-19 23:59:00  Research            $50,000        678           False  \r\n",
      "https://www.kaggle.com/competitions/stable-diffusion-image-to-prompts              2023-05-15 23:59:00  Featured            $50,000        797           False  \r\n",
      "https://www.kaggle.com/competitions/birdclef-2023                                  2023-05-24 23:59:00  Research            $50,000        554           False  \r\n",
      "https://www.kaggle.com/competitions/benetech-making-graphs-accessible              2023-06-12 23:59:00  Featured            $50,000         51           False  \r\n",
      "https://www.kaggle.com/competitions/playground-series-s3e11                        2023-04-03 23:59:00  Playground             Swag        787           False  \r\n",
      "https://www.kaggle.com/competitions/fathomnet-out-of-sample-detection              2023-05-23 23:59:00  Research          Knowledge          2           False  \r\n",
      "https://www.kaggle.com/competitions/titanic                                        2030-01-01 00:00:00  Getting Started   Knowledge      15557           False  \r\n",
      "https://www.kaggle.com/competitions/house-prices-advanced-regression-techniques    2030-01-01 00:00:00  Getting Started   Knowledge       4465            True  \r\n",
      "https://www.kaggle.com/competitions/spaceship-titanic                              2030-01-01 00:00:00  Getting Started   Knowledge       2377           False  \r\n",
      "https://www.kaggle.com/competitions/digit-recognizer                               2030-01-01 00:00:00  Getting Started   Knowledge       1420           False  \r\n",
      "https://www.kaggle.com/competitions/nlp-getting-started                            2030-01-01 00:00:00  Getting Started   Knowledge       1140           False  \r\n",
      "https://www.kaggle.com/competitions/connectx                                       2030-01-01 00:00:00  Getting Started   Knowledge        248           False  \r\n",
      "https://www.kaggle.com/competitions/tpu-getting-started                            2030-06-03 23:59:00  Getting Started   Knowledge        146           False  \r\n",
      "https://www.kaggle.com/competitions/store-sales-time-series-forecasting            2030-06-30 23:59:00  Getting Started   Knowledge        657           False  \r\n"
     ]
    }
   ],
   "source": [
    "!kaggle competitions list"
   ],
   "metadata": {
    "collapsed": false
   }
  },
  {
   "cell_type": "code",
   "execution_count": null,
   "outputs": [],
   "source": [],
   "metadata": {
    "collapsed": false
   }
  }
 ],
 "metadata": {
  "kernelspec": {
   "display_name": "Python 3",
   "language": "python",
   "name": "python3"
  },
  "language_info": {
   "codemirror_mode": {
    "name": "ipython",
    "version": 2
   },
   "file_extension": ".py",
   "mimetype": "text/x-python",
   "name": "python",
   "nbconvert_exporter": "python",
   "pygments_lexer": "ipython2",
   "version": "2.7.6"
  }
 },
 "nbformat": 4,
 "nbformat_minor": 0
}
